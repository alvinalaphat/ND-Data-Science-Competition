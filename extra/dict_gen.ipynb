{
 "metadata": {
  "language_info": {
   "codemirror_mode": {
    "name": "ipython",
    "version": 3
   },
   "file_extension": ".py",
   "mimetype": "text/x-python",
   "name": "python",
   "nbconvert_exporter": "python",
   "pygments_lexer": "ipython3",
   "version": "3.8.3-final"
  },
  "orig_nbformat": 2,
  "kernelspec": {
   "name": "Python 3.8.3 32-bit",
   "display_name": "Python 3.8.3 32-bit",
   "metadata": {
    "interpreter": {
     "hash": "79628e63ec17663c5501ec834ad035e0f609e7675c315cbcb57851b99a2554b6"
    }
   }
  }
 },
 "nbformat": 4,
 "nbformat_minor": 2,
 "cells": [
  {
   "cell_type": "code",
   "execution_count": 1,
   "metadata": {},
   "outputs": [],
   "source": [
    "import pandas"
   ]
  },
  {
   "cell_type": "code",
   "execution_count": 2,
   "metadata": {},
   "outputs": [],
   "source": [
    "df_num = pandas.read_csv(\"numeric.csv\")\n",
    "df_nom = pandas.read_csv(\"nominal.csv\")"
   ]
  },
  {
   "cell_type": "code",
   "execution_count": 8,
   "metadata": {},
   "outputs": [],
   "source": [
    "d = dict()\n",
    "\n",
    "for c in df_num.columns:\n",
    "    for i in range(len(df_num)):\n",
    "        num = df_num[c][i]\n",
    "        nom = df_nom[c][i]\n",
    "        if (num != nom):\n",
    "            if c not in d:\n",
    "                d[c] = dict()\n",
    "            \n",
    "            d[c][num] = nom\n",
    "            d[c][nom] = num"
   ]
  },
  {
   "cell_type": "code",
   "execution_count": 14,
   "metadata": {},
   "outputs": [
    {
     "output_type": "execute_result",
     "data": {
      "text/plain": [
       "{'school': {0: 'GP', 'GP': 0, 1: 'MS', 'MS': 1},\n",
       " 'sex': {0: 'F', 'F': 0, 1: 'M', 'M': 1},\n",
       " 'address': {1: 'U', 'U': 1, 0: 'R', 'R': 0},\n",
       " 'famsize': {0: 'GT3', 'GT3': 0, 1: 'LE3', 'LE3': 1},\n",
       " 'Pstatus': {0: 'A', 'A': 0, 1: 'T', 'T': 1},\n",
       " 'Mjob': {0: 'at_home',\n",
       "  'at_home': 0,\n",
       "  1: 'health',\n",
       "  'health': 1,\n",
       "  2: 'other',\n",
       "  'other': 2,\n",
       "  3: 'services',\n",
       "  'services': 3,\n",
       "  4: 'teacher',\n",
       "  'teacher': 4},\n",
       " 'Fjob': {4: 'teacher',\n",
       "  'teacher': 4,\n",
       "  2: 'other',\n",
       "  'other': 2,\n",
       "  3: 'services',\n",
       "  'services': 3,\n",
       "  1: 'health',\n",
       "  'health': 1,\n",
       "  0: 'at_home',\n",
       "  'at_home': 0},\n",
       " 'reason': {0: 'course',\n",
       "  'course': 0,\n",
       "  2: 'other',\n",
       "  'other': 2,\n",
       "  1: 'home',\n",
       "  'home': 1,\n",
       "  3: 'reputation',\n",
       "  'reputation': 3},\n",
       " 'guardian': {1: 'mother',\n",
       "  'mother': 1,\n",
       "  0: 'father',\n",
       "  'father': 0,\n",
       "  2: 'other',\n",
       "  'other': 2},\n",
       " 'schoolsup': {1: 'yes', 'yes': 1, 0: 'no', 'no': 0},\n",
       " 'famsup': {0: 'no', 'no': 0, 1: 'yes', 'yes': 1},\n",
       " 'paid': {0: 'no', 'no': 0, 1: 'yes', 'yes': 1},\n",
       " 'activities': {0: 'no', 'no': 0, 1: 'yes', 'yes': 1},\n",
       " 'nursery': {1: 'yes', 'yes': 1, 0: 'no', 'no': 0},\n",
       " 'higher': {1: 'yes', 'yes': 1, 0: 'no', 'no': 0},\n",
       " 'internet': {0: 'no', 'no': 0, 1: 'yes', 'yes': 1},\n",
       " 'romantic': {0: 'no', 'no': 0, 1: 'yes', 'yes': 1}}"
      ]
     },
     "metadata": {},
     "execution_count": 14
    }
   ],
   "source": [
    "d"
   ]
  },
  {
   "cell_type": "code",
   "execution_count": null,
   "metadata": {},
   "outputs": [],
   "source": []
  }
 ]
}